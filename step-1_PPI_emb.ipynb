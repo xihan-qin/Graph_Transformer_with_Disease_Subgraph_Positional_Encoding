{
  "cells": [
    {
      "cell_type": "markdown",
      "id": "XMZ06nZzOEku",
      "metadata": {
        "id": "XMZ06nZzOEku"
      },
      "source": [
        "# XQ:Select CPU"
      ]
    },
    {
      "cell_type": "markdown",
      "id": "wnx5TUIEOMXX",
      "metadata": {
        "id": "wnx5TUIEOMXX"
      },
      "source": [
        "Runtime -> Change Runtime type -> CPU"
      ]
    },
    {
      "cell_type": "markdown",
      "id": "0quiQZnHBMnE",
      "metadata": {
        "id": "0quiQZnHBMnE"
      },
      "source": [
        "#XQ:Mount Drive"
      ]
    },
    {
      "cell_type": "code",
      "execution_count": null,
      "id": "zLEqL7d4O4em",
      "metadata": {
        "id": "zLEqL7d4O4em"
      },
      "outputs": [],
      "source": [
        "# import packages\n",
        "## for mount drive purpose\n",
        "import os\n",
        "from google.colab import drive"
      ]
    },
    {
      "cell_type": "code",
      "execution_count": null,
      "id": "2MytS4OrlCCg",
      "metadata": {
        "colab": {
          "base_uri": "https://localhost:8080/"
        },
        "id": "2MytS4OrlCCg",
        "outputId": "c0ab6e65-7a31-49cc-92af-73eda770e244"
      },
      "outputs": [
        {
          "name": "stdout",
          "output_type": "stream",
          "text": [
            "Mounted at /content/drive/\n"
          ]
        }
      ],
      "source": [
        "# mount drive\n",
        "drive.mount('/content/drive/', force_remount=True)\n",
        "os.chdir('/content/drive/My Drive/Colab_Notebooks/Graph_transformer')"
      ]
    },
    {
      "cell_type": "markdown",
      "id": "RV_gOBue3jsy",
      "metadata": {
        "id": "RV_gOBue3jsy"
      },
      "source": [
        "# Step 1 PPI graph embedding"
      ]
    },
    {
      "cell_type": "code",
      "execution_count": null,
      "id": "EEBRiWlp5HiL",
      "metadata": {
        "id": "EEBRiWlp5HiL"
      },
      "outputs": [],
      "source": [
        "from utils import (get_graph_from_file, get_gene_idx_dict_from_file)"
      ]
    },
    {
      "cell_type": "code",
      "execution_count": null,
      "id": "ncNLmbe_3p1w",
      "metadata": {
        "id": "ncNLmbe_3p1w"
      },
      "outputs": [],
      "source": [
        "input_folder = 'input'\n",
        "\n",
        "edge_list_file_path = f'{input_folder}/interactom_edges.txt' # stores the edges for the largest connected component in human Interactome\n",
        "node_file_path = f'{input_folder}/interactom_nodes.txt'   # stores the nodes for the largest connected component in human Interactome"
      ]
    },
    {
      "cell_type": "markdown",
      "id": "t8ZQrNx2rhx9",
      "metadata": {
        "id": "t8ZQrNx2rhx9"
      },
      "source": [
        "## Embed graph with mapped ids.\n",
        "Map the ids to the gene_ids first, so that graph nodes are 0, 1, ... number_of_nodes. Then, use this graph with new node ids to do the following tasks."
      ]
    },
    {
      "cell_type": "code",
      "execution_count": null,
      "id": "4s2c3NELtCTF",
      "metadata": {
        "id": "4s2c3NELtCTF"
      },
      "outputs": [],
      "source": [
        "import networkx as nx\n",
        "from utils import (get_graph_from_file, get_gene_idx_dict_from_file)\n",
        "import numpy as np\n",
        "import scipy.sparse as sp"
      ]
    },
    {
      "cell_type": "code",
      "execution_count": null,
      "id": "O5NAdVjQr7W7",
      "metadata": {
        "id": "O5NAdVjQr7W7"
      },
      "outputs": [],
      "source": [
        "def get_graph_from_file_and_map_ids(network_file, node_dict, **kwargs):\n",
        "    \"\"\"\n",
        "        generate a graph based on the input file\n",
        "        The input file is provided by Joerg Menche et al. in their paper's supplementary\n",
        "        Thus modify their function to parse the file and get the graph\n",
        "        The function returns:\n",
        "        G: the graph with self loop removed\n",
        "    \"\"\"\n",
        "\n",
        "    defaultKwargs = {'self_link': True}\n",
        "    kwargs = { **defaultKwargs, **kwargs}\n",
        "\n",
        "    G = nx.Graph()\n",
        "    network_file = open(network_file,'r')\n",
        "    for line in network_file:\n",
        "        # lines starting with '#' will be ignored\n",
        "        if line[0]=='#':\n",
        "            continue\n",
        "        line_data   = line.strip().split('\\t')\n",
        "        gene1 = line_data[0]\n",
        "        gene2 = line_data[1]\n",
        "\n",
        "        G.add_edge(node_dict[gene1],node_dict[gene2])\n",
        "\n",
        "    # remove self links\n",
        "    if not kwargs['self_link']:\n",
        "        remove_self_links(G)\n",
        "    return G\n",
        "#------------------------------------------------------------------------------#\n",
        "def remove_self_links(G):\n",
        "    sl = nx.selfloop_edges(G)\n",
        "    G.remove_edges_from(sl)"
      ]
    },
    {
      "cell_type": "markdown",
      "id": "m3icuYug6gul",
      "metadata": {
        "id": "m3icuYug6gul"
      },
      "source": [
        "## Node2Vec"
      ]
    },
    {
      "cell_type": "markdown",
      "id": "8R5XtIda6imV",
      "metadata": {
        "id": "8R5XtIda6imV"
      },
      "source": [
        "*   https://github.com/aditya-grover/node2vec\n",
        "*   https://github.com/eliorc/node2vec\n",
        "*   node2vec uses gensim word2vec: https://radimrehurek.com/gensim/models/word2vec.html"
      ]
    },
    {
      "cell_type": "code",
      "execution_count": null,
      "id": "zCrBnphP9Bb8",
      "metadata": {
        "colab": {
          "base_uri": "https://localhost:8080/"
        },
        "id": "zCrBnphP9Bb8",
        "outputId": "0d90a3c2-3935-4fb7-91dc-a5906ae7a857"
      },
      "outputs": [
        {
          "name": "stdout",
          "output_type": "stream",
          "text": [
            "Collecting node2vec\n",
            "  Downloading node2vec-0.5.0-py3-none-any.whl.metadata (849 bytes)\n",
            "Requirement already satisfied: gensim<5.0.0,>=4.3.0 in /usr/local/lib/python3.10/dist-packages (from node2vec) (4.3.3)\n",
            "Requirement already satisfied: joblib<2.0.0,>=1.4.0 in /usr/local/lib/python3.10/dist-packages (from node2vec) (1.4.2)\n",
            "Requirement already satisfied: networkx<4.0.0,>=3.1.0 in /usr/local/lib/python3.10/dist-packages (from node2vec) (3.4.2)\n",
            "Requirement already satisfied: numpy<2.0.0,>=1.24.0 in /usr/local/lib/python3.10/dist-packages (from node2vec) (1.26.4)\n",
            "Requirement already satisfied: tqdm<5.0.0,>=4.66.1 in /usr/local/lib/python3.10/dist-packages (from node2vec) (4.66.6)\n",
            "Requirement already satisfied: scipy<1.14.0,>=1.7.0 in /usr/local/lib/python3.10/dist-packages (from gensim<5.0.0,>=4.3.0->node2vec) (1.13.1)\n",
            "Requirement already satisfied: smart-open>=1.8.1 in /usr/local/lib/python3.10/dist-packages (from gensim<5.0.0,>=4.3.0->node2vec) (7.0.5)\n",
            "Requirement already satisfied: wrapt in /usr/local/lib/python3.10/dist-packages (from smart-open>=1.8.1->gensim<5.0.0,>=4.3.0->node2vec) (1.16.0)\n",
            "Downloading node2vec-0.5.0-py3-none-any.whl (7.2 kB)\n",
            "Installing collected packages: node2vec\n",
            "Successfully installed node2vec-0.5.0\n"
          ]
        }
      ],
      "source": [
        "!pip install node2vec"
      ]
    },
    {
      "cell_type": "code",
      "execution_count": null,
      "id": "GNS1ttO77IYc",
      "metadata": {
        "id": "GNS1ttO77IYc"
      },
      "outputs": [],
      "source": [
        "from node2vec import Node2Vec"
      ]
    },
    {
      "cell_type": "code",
      "execution_count": null,
      "id": "zfzmii2q6MLQ",
      "metadata": {
        "id": "zfzmii2q6MLQ"
      },
      "outputs": [],
      "source": [
        "def node2vec_embed(G_sub, dim):\n",
        "  # use default setting from https://github.com/eliorc/node2vec\n",
        "  node2vec = Node2Vec(G_sub, dimensions = dim, walk_length=30, num_walks=200, workers=4)\n",
        "  # Embed nodes, use default setting from https://github.com/eliorc/node2vec\n",
        "  model = node2vec.fit(window=2, min_count=1, batch_words=4)\n",
        "  # get embedding matrix\n",
        "  Z = model.wv.vectors\n",
        "  return Z"
      ]
    },
    {
      "cell_type": "code",
      "execution_count": null,
      "id": "n_GjSbhr7bQ1",
      "metadata": {
        "colab": {
          "background_save": true,
          "base_uri": "https://localhost:8080/",
          "height": 49,
          "referenced_widgets": [
            "33f0d4765e8e4d17861bdf6ad3dcbf6e",
            "3108750a5c2e428c82a6b42db1aafa26",
            "0111908f20cd43e297ffb46aaa750de8",
            "28a78e38511c48e2bc4b0f1a56535a57",
            "2c5282c1b6344cd2bd26bc576e1ec352",
            "8f8cf596cdd34784b230351de928ca6c",
            "49758b566f0e40eab661d7449931ab0a",
            "687c4bcd4f5f491596c0f6c486c2059d",
            "6a7e2507841d4f1cb3901e0e9d7756b6",
            "3cbff2bc655e438c9d00cabdd1a4c3f5",
            "3b6ec4b0f6b14e1f809ea61a41674ede"
          ]
        },
        "id": "n_GjSbhr7bQ1",
        "outputId": "6333ac77-a671-48f4-a51e-dc37b19abadf"
      },
      "outputs": [
        {
          "data": {
            "application/vnd.jupyter.widget-view+json": {
              "model_id": "33f0d4765e8e4d17861bdf6ad3dcbf6e",
              "version_major": 2,
              "version_minor": 0
            },
            "text/plain": [
              "Computing transition probabilities:   0%|          | 0/13329 [00:00<?, ?it/s]"
            ]
          },
          "metadata": {},
          "output_type": "display_data"
        }
      ],
      "source": [
        "# get graph nodes\n",
        "node_idx_dict = get_gene_idx_dict_from_file(node_file_path)\n",
        "G_sub = get_graph_from_file_and_map_ids(edge_list_file_path, node_idx_dict)\n",
        "Z = node2vec_embed(G_sub, 64)"
      ]
    },
    {
      "cell_type": "markdown",
      "id": "RyAP0d1PXQ-D",
      "metadata": {
        "id": "RyAP0d1PXQ-D"
      },
      "source": [
        "### write Z to the file"
      ]
    },
    {
      "cell_type": "code",
      "execution_count": null,
      "id": "s7zE9_nIS1IQ",
      "metadata": {
        "colab": {
          "background_save": true
        },
        "id": "s7zE9_nIS1IQ"
      },
      "outputs": [],
      "source": [
        "import pickle"
      ]
    },
    {
      "cell_type": "code",
      "execution_count": null,
      "id": "YAIltEEwI_X4",
      "metadata": {
        "colab": {
          "background_save": true
        },
        "id": "YAIltEEwI_X4"
      },
      "outputs": [],
      "source": [
        "# write Z to the file\n",
        "with open('embedding/node2nev_emb_64_for_PE', \"wb\") as fp:\n",
        "    pickle.dump(Z, fp)"
      ]
    },
    {
      "cell_type": "markdown",
      "id": "Poo2_Keu6GZx",
      "metadata": {
        "id": "Poo2_Keu6GZx"
      },
      "source": [
        "## LPE"
      ]
    },
    {
      "cell_type": "code",
      "execution_count": null,
      "id": "cld5u4bVScNp",
      "metadata": {
        "id": "cld5u4bVScNp"
      },
      "outputs": [],
      "source": [
        "import numpy as np\n",
        "from scipy import sparse as sp\n",
        "from utils import get_gene_idx_dict_from_file\n",
        "import networkx as nx"
      ]
    },
    {
      "cell_type": "code",
      "execution_count": null,
      "id": "7fJ_tSqBOw3V",
      "metadata": {
        "id": "7fJ_tSqBOw3V"
      },
      "outputs": [],
      "source": [
        "edge_list_file_path = f'interactom_edges.txt' # stores the edges for the largest connected component in human Interactome\n",
        "node_file_path = f'{input_folder}/interactom_nodes.txt'"
      ]
    },
    {
      "cell_type": "code",
      "execution_count": null,
      "id": "AN8ppgTYQ12q",
      "metadata": {
        "id": "AN8ppgTYQ12q"
      },
      "outputs": [],
      "source": [
        "# get graph nodes\n",
        "node_idx_dict = get_gene_idx_dict_from_file(node_file_path)\n",
        "G_sub = get_graph_from_file_and_map_ids(edge_list_file_path, node_idx_dict)"
      ]
    },
    {
      "cell_type": "code",
      "execution_count": null,
      "id": "V9I0ZygybF5k",
      "metadata": {
        "id": "V9I0ZygybF5k"
      },
      "outputs": [],
      "source": [
        "A = nx.adjacency_matrix(G_sub)  # sparse matrix, reordered the nodes so that is from small to large\n",
        "degrees = [G_sub.degree[k] for k in range(G_sub.number_of_nodes())]\n",
        "N = sp.diags(np.asarray(degrees) ** -0.5, dtype=float)\n",
        "L = sp.eye(G_sub.number_of_nodes()) - N * A * N"
      ]
    },
    {
      "cell_type": "code",
      "execution_count": null,
      "id": "ejY2Em2JbR5m",
      "metadata": {
        "id": "ejY2Em2JbR5m"
      },
      "outputs": [],
      "source": [
        "# Eigenvectors with numpy\n",
        "EigVal, EigVec = np.linalg.eig(L.toarray())\n",
        "idx = EigVal.argsort() # increasing order\n",
        "EigVal, EigVec = EigVal[idx], np.real(EigVec[:,idx])"
      ]
    },
    {
      "cell_type": "code",
      "execution_count": null,
      "id": "d5XUsli2hKQe",
      "metadata": {
        "id": "d5XUsli2hKQe"
      },
      "outputs": [],
      "source": [
        "from utils import matrix_to_file, array_to_file"
      ]
    },
    {
      "cell_type": "code",
      "execution_count": null,
      "id": "UlnopIgRoRYQ",
      "metadata": {
        "id": "UlnopIgRoRYQ"
      },
      "outputs": [],
      "source": [
        "LPE = EigVec[:,0]"
      ]
    },
    {
      "cell_type": "code",
      "execution_count": null,
      "id": "vbR4CFCBbbv0",
      "metadata": {
        "id": "vbR4CFCBbbv0"
      },
      "outputs": [],
      "source": [
        "pos_enc_dim = 64"
      ]
    },
    {
      "cell_type": "code",
      "execution_count": null,
      "id": "jV3U_wUMh5Uy",
      "metadata": {
        "id": "jV3U_wUMh5Uy"
      },
      "outputs": [],
      "source": [
        "LPE = EigVec[:,:pos_enc_dim]"
      ]
    },
    {
      "cell_type": "code",
      "execution_count": null,
      "id": "N7Ie4NbHhr31",
      "metadata": {
        "id": "N7Ie4NbHhr31"
      },
      "outputs": [],
      "source": [
        "LPE_file = \"embedding/LPE.tsv\""
      ]
    },
    {
      "cell_type": "code",
      "execution_count": null,
      "id": "n32LmEpybTyZ",
      "metadata": {
        "id": "n32LmEpybTyZ"
      },
      "outputs": [],
      "source": [
        "matrix_to_file(LPE, LPE_file)"
      ]
    },
    {
      "cell_type": "markdown",
      "id": "_g8oor4DQGOG",
      "metadata": {
        "id": "_g8oor4DQGOG"
      },
      "source": [
        "## GEE"
      ]
    },
    {
      "cell_type": "code",
      "execution_count": null,
      "id": "fCIx-muMCvne",
      "metadata": {
        "id": "fCIx-muMCvne"
      },
      "outputs": [],
      "source": [
        "input_folder = 'input'\n",
        "RR = 'RR1'\n",
        "node_file_path = f'{input_folder}/interactom_nodes.txt'   # stores the nodes for the largest connected component in human Interactome\n",
        "train_file_path = f'{input_folder}/{RR}/train_set.tsv'\n",
        "test_file_path = f'{input_folder}/{RR}/test_set.tsv'"
      ]
    },
    {
      "cell_type": "code",
      "execution_count": null,
      "id": "slAujs6dCX41",
      "metadata": {
        "id": "slAujs6dCX41"
      },
      "outputs": [],
      "source": [
        "from utils import get_gene_idx_dict_from_file\n",
        "import numpy as np"
      ]
    },
    {
      "cell_type": "code",
      "execution_count": null,
      "id": "LKvLhN_h6MAw",
      "metadata": {
        "id": "LKvLhN_h6MAw"
      },
      "outputs": [],
      "source": [
        "def get_disease_dict(train_file_path, test_file_path):\n",
        "    dis_id_dis_dict = {}     #{disease_id: disease_name}\n",
        "    dis_dis_id_dict = {} #{disease_name: disease_id}\n",
        "    dis_cnt_dict = {}  # {disease_id: disease_cnt}\n",
        "    dis_gene_dict = {}  # {disease:[gene1,gene2,...]}\n",
        "\n",
        "    id = 0\n",
        "    for file_path in [train_file_path, test_file_path]:\n",
        "      f = open(file_path, \"r\")\n",
        "      head = True\n",
        "      for line in f:\n",
        "          if head:\n",
        "              head = False\n",
        "              continue\n",
        "\n",
        "          row = line.strip().split(\"\\t\")\n",
        "          dis_pair, disease_a_genes, disease_b_genes, all_genes, rr = row\n",
        "\n",
        "          disease_a, disease_b = dis_pair.split(\"&\")\n",
        "          dis_gene_dict[disease_a] = disease_a_genes.split(\",\")\n",
        "          dis_gene_dict[disease_b] = disease_b_genes.split(\",\")\n",
        "\n",
        "          for dis in [disease_a, disease_b]:\n",
        "            if dis not in dis_dis_id_dict:\n",
        "              dis_dis_id_dict[dis] = id\n",
        "              dis_id_dis_dict[id] = dis\n",
        "              dis_dis_id_dict[id] = 1\n",
        "              dis_cnt_dict[dis] = len(dis_gene_dict[dis]) #the disease in disease pairs in the train set and test set can repeat, only need to cnt the number of genes when first see it.\n",
        "              id += 1\n",
        "\n",
        "\n",
        "\n",
        "      f.close()\n",
        "\n",
        "    return dis_id_dis_dict, dis_dis_id_dict, dis_cnt_dict, dis_gene_dict\n",
        "\n",
        "def get_W(dis_cnt_dict, dis_gene_dict, dis_dis_id_dict, node_idx_dict):\n",
        "  \"\"\"\n",
        "    dis_id_dis_dict = {}     #{disease_id: disease_name}\n",
        "    dis_dis_id_dict = {} #{disease_name: disease_id}\n",
        "    dis_cnt_dict = {}  # {disease_id: disease_cnt}\n",
        "    dis_gene_dict = {}  # {disease:[gene1,gene2,...]}\n",
        "    node_idx_dict: {gene: mapped_gene_id_from_0}\n",
        "  \"\"\"\n",
        "  k = len(dis_cnt_dict.keys())\n",
        "  n = len(node_idx_dict.keys())\n",
        "  W = np.zeros((n,k))\n",
        "\n",
        "  not_in = set()\n",
        "  in_graph = set()\n",
        "  for dis, gene_list in dis_gene_dict.items():\n",
        "    dis_id = dis_dis_id_dict[dis]\n",
        "    dis_cnt = dis_cnt_dict[dis]\n",
        "    for gene in gene_list:\n",
        "      if gene not in node_idx_dict:\n",
        "        not_in.add(gene)\n",
        "      else:\n",
        "        gene_id = node_idx_dict[gene]\n",
        "        W[gene_id,dis_id] = 1/dis_cnt\n",
        "        in_graph.add(gene)\n",
        "  # print(f'genes not in graph: {len(not_in)}')\n",
        "  # print(f'genes in graph: {len(in_graph)}')\n",
        "  # print(f'total genes: {len(not_in)+len(in_graph)} ')\n",
        "  return W"
      ]
    },
    {
      "cell_type": "code",
      "execution_count": null,
      "id": "wdvyYzaaCjn1",
      "metadata": {
        "id": "wdvyYzaaCjn1"
      },
      "outputs": [],
      "source": [
        "node_idx_dict = get_gene_idx_dict_from_file(node_file_path)"
      ]
    },
    {
      "cell_type": "code",
      "execution_count": null,
      "id": "g8MDMoX4C0Vs",
      "metadata": {
        "id": "g8MDMoX4C0Vs"
      },
      "outputs": [],
      "source": [
        "dis_id_dis_dict, dis_dis_id_dict, dis_cnt_dict, dis_gene_dict = get_disease_dict(train_file_path, test_file_path)\n",
        "W = get_W(dis_cnt_dict, dis_gene_dict, dis_dis_id_dict, node_idx_dict)"
      ]
    },
    {
      "cell_type": "markdown",
      "id": "5b0TRDKFQYn2",
      "metadata": {
        "id": "5b0TRDKFQYn2"
      },
      "source": [
        "### GEE embed: Z = AW"
      ]
    },
    {
      "cell_type": "code",
      "execution_count": null,
      "id": "Z8STfRoATGzz",
      "metadata": {
        "id": "Z8STfRoATGzz"
      },
      "outputs": [],
      "source": [
        "A = nx.adjacency_matrix(G_sub)\n",
        "Z = A.dot(W)"
      ]
    },
    {
      "cell_type": "code",
      "execution_count": null,
      "id": "ohTU9j8_aIbz",
      "metadata": {
        "id": "ohTU9j8_aIbz"
      },
      "outputs": [],
      "source": [
        "from scipy.linalg import svd\n",
        "# take 64 dims of U\n",
        "U, s, VT = svd(Z)\n",
        "idx = s.argsort()[::-1] # decreasing order\n",
        "s, U = s[idx], U[:,idx]"
      ]
    },
    {
      "cell_type": "code",
      "execution_count": null,
      "id": "nkr915oaaV2k",
      "metadata": {
        "id": "nkr915oaaV2k"
      },
      "outputs": [],
      "source": [
        "pos_enc_dim = 64\n",
        "Z_U = U[:,:pos_enc_dim]"
      ]
    },
    {
      "cell_type": "markdown",
      "id": "WDZ2ND7raqz8",
      "metadata": {
        "id": "WDZ2ND7raqz8"
      },
      "source": [
        "#### write GEE matrix related to the file"
      ]
    },
    {
      "cell_type": "code",
      "execution_count": null,
      "id": "0IpM41rzaq0K",
      "metadata": {
        "id": "0IpM41rzaq0K"
      },
      "outputs": [],
      "source": [
        "from utils import matrix_to_file, array_to_file"
      ]
    },
    {
      "cell_type": "code",
      "execution_count": null,
      "id": "euPZGW7Laq0L",
      "metadata": {
        "id": "euPZGW7Laq0L"
      },
      "outputs": [],
      "source": [
        "GEE_file = f'embedding/{RR}/GEE_Z_U.tsv' # The file that contains the GEE weight matrix\n",
        "matrix_to_file(Z_U, GEE_file)"
      ]
    }
  ],
  "metadata": {
    "colab": {
      "provenance": []
    },
    "kernelspec": {
      "display_name": "Python 3",
      "name": "python3"
    },
    "language_info": {
      "name": "python"
    },
    "widgets": {
      "application/vnd.jupyter.widget-state+json": {
        "0111908f20cd43e297ffb46aaa750de8": {
          "model_module": "@jupyter-widgets/controls",
          "model_module_version": "1.5.0",
          "model_name": "FloatProgressModel",
          "state": {
            "_dom_classes": [],
            "_model_module": "@jupyter-widgets/controls",
            "_model_module_version": "1.5.0",
            "_model_name": "FloatProgressModel",
            "_view_count": null,
            "_view_module": "@jupyter-widgets/controls",
            "_view_module_version": "1.5.0",
            "_view_name": "ProgressView",
            "bar_style": "",
            "description": "",
            "description_tooltip": null,
            "layout": "IPY_MODEL_687c4bcd4f5f491596c0f6c486c2059d",
            "max": 13329,
            "min": 0,
            "orientation": "horizontal",
            "style": "IPY_MODEL_6a7e2507841d4f1cb3901e0e9d7756b6",
            "value": 102
          }
        },
        "28a78e38511c48e2bc4b0f1a56535a57": {
          "model_module": "@jupyter-widgets/controls",
          "model_module_version": "1.5.0",
          "model_name": "HTMLModel",
          "state": {
            "_dom_classes": [],
            "_model_module": "@jupyter-widgets/controls",
            "_model_module_version": "1.5.0",
            "_model_name": "HTMLModel",
            "_view_count": null,
            "_view_module": "@jupyter-widgets/controls",
            "_view_module_version": "1.5.0",
            "_view_name": "HTMLView",
            "description": "",
            "description_tooltip": null,
            "layout": "IPY_MODEL_3cbff2bc655e438c9d00cabdd1a4c3f5",
            "placeholder": "​",
            "style": "IPY_MODEL_3b6ec4b0f6b14e1f809ea61a41674ede",
            "value": " 102/13329 [00:15&lt;1:27:09,  2.53it/s]"
          }
        },
        "2c5282c1b6344cd2bd26bc576e1ec352": {
          "model_module": "@jupyter-widgets/base",
          "model_module_version": "1.2.0",
          "model_name": "LayoutModel",
          "state": {
            "_model_module": "@jupyter-widgets/base",
            "_model_module_version": "1.2.0",
            "_model_name": "LayoutModel",
            "_view_count": null,
            "_view_module": "@jupyter-widgets/base",
            "_view_module_version": "1.2.0",
            "_view_name": "LayoutView",
            "align_content": null,
            "align_items": null,
            "align_self": null,
            "border": null,
            "bottom": null,
            "display": null,
            "flex": null,
            "flex_flow": null,
            "grid_area": null,
            "grid_auto_columns": null,
            "grid_auto_flow": null,
            "grid_auto_rows": null,
            "grid_column": null,
            "grid_gap": null,
            "grid_row": null,
            "grid_template_areas": null,
            "grid_template_columns": null,
            "grid_template_rows": null,
            "height": null,
            "justify_content": null,
            "justify_items": null,
            "left": null,
            "margin": null,
            "max_height": null,
            "max_width": null,
            "min_height": null,
            "min_width": null,
            "object_fit": null,
            "object_position": null,
            "order": null,
            "overflow": null,
            "overflow_x": null,
            "overflow_y": null,
            "padding": null,
            "right": null,
            "top": null,
            "visibility": null,
            "width": null
          }
        },
        "3108750a5c2e428c82a6b42db1aafa26": {
          "model_module": "@jupyter-widgets/controls",
          "model_module_version": "1.5.0",
          "model_name": "HTMLModel",
          "state": {
            "_dom_classes": [],
            "_model_module": "@jupyter-widgets/controls",
            "_model_module_version": "1.5.0",
            "_model_name": "HTMLModel",
            "_view_count": null,
            "_view_module": "@jupyter-widgets/controls",
            "_view_module_version": "1.5.0",
            "_view_name": "HTMLView",
            "description": "",
            "description_tooltip": null,
            "layout": "IPY_MODEL_8f8cf596cdd34784b230351de928ca6c",
            "placeholder": "​",
            "style": "IPY_MODEL_49758b566f0e40eab661d7449931ab0a",
            "value": "Computing transition probabilities:   1%"
          }
        },
        "33f0d4765e8e4d17861bdf6ad3dcbf6e": {
          "model_module": "@jupyter-widgets/controls",
          "model_module_version": "1.5.0",
          "model_name": "HBoxModel",
          "state": {
            "_dom_classes": [],
            "_model_module": "@jupyter-widgets/controls",
            "_model_module_version": "1.5.0",
            "_model_name": "HBoxModel",
            "_view_count": null,
            "_view_module": "@jupyter-widgets/controls",
            "_view_module_version": "1.5.0",
            "_view_name": "HBoxView",
            "box_style": "",
            "children": [
              "IPY_MODEL_3108750a5c2e428c82a6b42db1aafa26",
              "IPY_MODEL_0111908f20cd43e297ffb46aaa750de8",
              "IPY_MODEL_28a78e38511c48e2bc4b0f1a56535a57"
            ],
            "layout": "IPY_MODEL_2c5282c1b6344cd2bd26bc576e1ec352"
          }
        },
        "3b6ec4b0f6b14e1f809ea61a41674ede": {
          "model_module": "@jupyter-widgets/controls",
          "model_module_version": "1.5.0",
          "model_name": "DescriptionStyleModel",
          "state": {
            "_model_module": "@jupyter-widgets/controls",
            "_model_module_version": "1.5.0",
            "_model_name": "DescriptionStyleModel",
            "_view_count": null,
            "_view_module": "@jupyter-widgets/base",
            "_view_module_version": "1.2.0",
            "_view_name": "StyleView",
            "description_width": ""
          }
        },
        "3cbff2bc655e438c9d00cabdd1a4c3f5": {
          "model_module": "@jupyter-widgets/base",
          "model_module_version": "1.2.0",
          "model_name": "LayoutModel",
          "state": {
            "_model_module": "@jupyter-widgets/base",
            "_model_module_version": "1.2.0",
            "_model_name": "LayoutModel",
            "_view_count": null,
            "_view_module": "@jupyter-widgets/base",
            "_view_module_version": "1.2.0",
            "_view_name": "LayoutView",
            "align_content": null,
            "align_items": null,
            "align_self": null,
            "border": null,
            "bottom": null,
            "display": null,
            "flex": null,
            "flex_flow": null,
            "grid_area": null,
            "grid_auto_columns": null,
            "grid_auto_flow": null,
            "grid_auto_rows": null,
            "grid_column": null,
            "grid_gap": null,
            "grid_row": null,
            "grid_template_areas": null,
            "grid_template_columns": null,
            "grid_template_rows": null,
            "height": null,
            "justify_content": null,
            "justify_items": null,
            "left": null,
            "margin": null,
            "max_height": null,
            "max_width": null,
            "min_height": null,
            "min_width": null,
            "object_fit": null,
            "object_position": null,
            "order": null,
            "overflow": null,
            "overflow_x": null,
            "overflow_y": null,
            "padding": null,
            "right": null,
            "top": null,
            "visibility": null,
            "width": null
          }
        },
        "49758b566f0e40eab661d7449931ab0a": {
          "model_module": "@jupyter-widgets/controls",
          "model_module_version": "1.5.0",
          "model_name": "DescriptionStyleModel",
          "state": {
            "_model_module": "@jupyter-widgets/controls",
            "_model_module_version": "1.5.0",
            "_model_name": "DescriptionStyleModel",
            "_view_count": null,
            "_view_module": "@jupyter-widgets/base",
            "_view_module_version": "1.2.0",
            "_view_name": "StyleView",
            "description_width": ""
          }
        },
        "687c4bcd4f5f491596c0f6c486c2059d": {
          "model_module": "@jupyter-widgets/base",
          "model_module_version": "1.2.0",
          "model_name": "LayoutModel",
          "state": {
            "_model_module": "@jupyter-widgets/base",
            "_model_module_version": "1.2.0",
            "_model_name": "LayoutModel",
            "_view_count": null,
            "_view_module": "@jupyter-widgets/base",
            "_view_module_version": "1.2.0",
            "_view_name": "LayoutView",
            "align_content": null,
            "align_items": null,
            "align_self": null,
            "border": null,
            "bottom": null,
            "display": null,
            "flex": null,
            "flex_flow": null,
            "grid_area": null,
            "grid_auto_columns": null,
            "grid_auto_flow": null,
            "grid_auto_rows": null,
            "grid_column": null,
            "grid_gap": null,
            "grid_row": null,
            "grid_template_areas": null,
            "grid_template_columns": null,
            "grid_template_rows": null,
            "height": null,
            "justify_content": null,
            "justify_items": null,
            "left": null,
            "margin": null,
            "max_height": null,
            "max_width": null,
            "min_height": null,
            "min_width": null,
            "object_fit": null,
            "object_position": null,
            "order": null,
            "overflow": null,
            "overflow_x": null,
            "overflow_y": null,
            "padding": null,
            "right": null,
            "top": null,
            "visibility": null,
            "width": null
          }
        },
        "6a7e2507841d4f1cb3901e0e9d7756b6": {
          "model_module": "@jupyter-widgets/controls",
          "model_module_version": "1.5.0",
          "model_name": "ProgressStyleModel",
          "state": {
            "_model_module": "@jupyter-widgets/controls",
            "_model_module_version": "1.5.0",
            "_model_name": "ProgressStyleModel",
            "_view_count": null,
            "_view_module": "@jupyter-widgets/base",
            "_view_module_version": "1.2.0",
            "_view_name": "StyleView",
            "bar_color": null,
            "description_width": ""
          }
        },
        "8f8cf596cdd34784b230351de928ca6c": {
          "model_module": "@jupyter-widgets/base",
          "model_module_version": "1.2.0",
          "model_name": "LayoutModel",
          "state": {
            "_model_module": "@jupyter-widgets/base",
            "_model_module_version": "1.2.0",
            "_model_name": "LayoutModel",
            "_view_count": null,
            "_view_module": "@jupyter-widgets/base",
            "_view_module_version": "1.2.0",
            "_view_name": "LayoutView",
            "align_content": null,
            "align_items": null,
            "align_self": null,
            "border": null,
            "bottom": null,
            "display": null,
            "flex": null,
            "flex_flow": null,
            "grid_area": null,
            "grid_auto_columns": null,
            "grid_auto_flow": null,
            "grid_auto_rows": null,
            "grid_column": null,
            "grid_gap": null,
            "grid_row": null,
            "grid_template_areas": null,
            "grid_template_columns": null,
            "grid_template_rows": null,
            "height": null,
            "justify_content": null,
            "justify_items": null,
            "left": null,
            "margin": null,
            "max_height": null,
            "max_width": null,
            "min_height": null,
            "min_width": null,
            "object_fit": null,
            "object_position": null,
            "order": null,
            "overflow": null,
            "overflow_x": null,
            "overflow_y": null,
            "padding": null,
            "right": null,
            "top": null,
            "visibility": null,
            "width": null
          }
        }
      }
    }
  },
  "nbformat": 4,
  "nbformat_minor": 5
}